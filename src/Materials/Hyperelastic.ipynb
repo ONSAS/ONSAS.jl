{
 "cells": [
  {
   "cell_type": "code",
   "execution_count": 1,
   "metadata": {},
   "outputs": [],
   "source": [
    "using ForwardDiff\n",
    "using LinearAlgebra\n",
    "using Test\n",
    "using Tensors"
   ]
  },
  {
   "attachments": {},
   "cell_type": "markdown",
   "metadata": {},
   "source": [
    "### SVK material \n",
    "strain energy:\n",
    "$$\\Phi(\\textbf{E}) =( \\frac{\\lambda}{2}tr(\\textbf{E})^2 + G  tr(\\textbf{E}^2))$$\n",
    "cosserat stress tensor:\n",
    "$$\\textbf{S}( \\textbf{E} ) = \\lambda tr(\\textbf{E}) \\textbf{I} + 2 G \\textbf{E}$$\n",
    "constitutive driver:\n",
    "$$ \\frac{\\partial\\textbf{S}}{\\partial\\textbf{E}} = \\lambda tr(\\textbf{E}) \\textbf{I} + 2 G \\textbf{E}$$\n",
    "\n",
    "\n"
   ]
  },
  {
   "cell_type": "code",
   "execution_count": 2,
   "metadata": {},
   "outputs": [
    {
     "data": {
      "text/plain": [
       "_vogit"
      ]
     },
     "metadata": {},
     "output_type": "display_data"
    }
   ],
   "source": [
    "\"Strain energy\"\n",
    "ϕ(𝔼::AbstractMatrix,λ=λ,G=G) = (λ / 2 * tr(𝔼)^2 + G * tr(𝔼^2))\n",
    "\n",
    "\"Cosserat stress tensor 𝕊.\"\n",
    "function 𝕊_analytic(𝔼::AbstractMatrix,λ=λ,G=G) \n",
    "    S = λ * tr(𝔼) * Diagonal(ones(Float64, 3)) + 2 * G * 𝔼\n",
    "    return S\n",
    "end\n",
    "\n",
    "𝕊_analytic_ij(𝔼::Matrix,i::Int,j::Int) = 𝕊_analytic(𝔼)[i,j]\n",
    "\n",
    "\"Aux function\"\n",
    "_vogit(𝕋::AbstractMatrix, α::Real=1) = [𝕋[1,1],𝕋[2,2],𝕋[3,3],α*𝕋[2,3], α*𝕋[1,3], α*𝕋[1,2]]\n",
    "\n",
    "\n",
    "# S₁₁ = ForwardDiff.derivative()"
   ]
  },
  {
   "attachments": {},
   "cell_type": "markdown",
   "metadata": {},
   "source": [
    "## ONSAS numerical results"
   ]
  },
  {
   "cell_type": "code",
   "execution_count": 3,
   "metadata": {},
   "outputs": [
    {
     "data": {
      "text/plain": [
       "6×6 Matrix{Float64}:\n",
       " 1.3461  0.5769  0.5769  0.0     0.0     0.0\n",
       " 0.5769  1.3461  0.5769  0.0     0.0     0.0\n",
       " 0.5769  0.5769  1.3461  0.0     0.0     0.0\n",
       " 0.0     0.0     0.0     0.3846  0.0     0.0\n",
       " 0.0     0.0     0.0     0.0     0.3846  0.0\n",
       " 0.0     0.0     0.0     0.0     0.0     0.3846"
      ]
     },
     "metadata": {},
     "output_type": "display_data"
    }
   ],
   "source": [
    "λ = 0.5769\n",
    "G = μ = 0.3846\n",
    "# Green Lagrange\n",
    "\n",
    "𝔼 = [0.18375  0.2925  0.51\n",
    "    0.2925   0.435   0.72\n",
    "    0.51     0.72    1.14]\n",
    "\n",
    "𝔼_tensor = SymmetricTensor{2,3}(𝔼)\n",
    "\n",
    "𝕊_test = 𝕊_analytic(𝔼)\n",
    "\n",
    "# Constitutive driver SVK\n",
    "∂𝕊∂𝔼_test = [\n",
    "    1.3461  0.5769      0.5769      0.0       0.0       0.0 \n",
    "    0.5769  1.3461      0.5769      0.0       0.0       0.0 \n",
    "    0.5769  0.5769      1.3461      0.0       0.0       0.0 \n",
    "     0.0       0.0       0.0      0.3846      0.0       0.0 \n",
    "     0.0       0.0       0.0       0.0      0.3846      0.0 \n",
    "     0.0       0.0       0.0       0.0        0.0      0.3846\n",
    "     ]"
   ]
  },
  {
   "cell_type": "code",
   "execution_count": 4,
   "metadata": {},
   "outputs": [
    {
     "data": {
      "text/plain": [
       "3×3 Matrix{Float64}:\n",
       " 1.15596   0.224991  0.392292\n",
       " 0.224991  1.34922   0.553824\n",
       " 0.392292  0.553824  1.89151"
      ]
     },
     "metadata": {},
     "output_type": "display_data"
    }
   ],
   "source": [
    "𝕊_test"
   ]
  },
  {
   "cell_type": "code",
   "execution_count": 5,
   "metadata": {},
   "outputs": [
    {
     "data": {
      "text/plain": [
       "\u001b[32m\u001b[1mTest Passed\u001b[22m\u001b[39m"
      ]
     },
     "metadata": {},
     "output_type": "display_data"
    }
   ],
   "source": [
    "\"Computes ∂S∂E with complex step.\"\n",
    "function ∂𝕊∂𝔼_complex_step(𝕊::Function, λ::Real,G::Real , 𝔼::Matrix)\n",
    "\n",
    "    compStep = 1e-10 ;\n",
    "    ∂S∂E = zeros(6,6)\n",
    "\n",
    "    for i in 1:6\n",
    "  \n",
    "      direction = zeros(3,3) ;\n",
    "  \n",
    "      if i<4\n",
    "        direction[i,i] = 1 ;\n",
    "      elseif i==4\n",
    "        direction[2,3] = 1 ;\n",
    "        direction[3,2] = 1 ;\n",
    "      elseif i==5\n",
    "        direction[1,3] = 1 ;\n",
    "        direction[3,1] = 1 ;\n",
    "      elseif i==6\n",
    "        direction[1,2] = 1 ;\n",
    "        direction[2,1] = 1 ;\n",
    "      end\n",
    "  \n",
    "      𝔼_complex = 𝔼  + compStep * direction * im ;\n",
    "  \n",
    "      𝕊_complex = 𝕊(𝔼_complex, λ, G) ;\n",
    "  \n",
    "      dsde = _vogit( ( imag( 𝕊_complex ) / compStep ) , 1 ) ;\n",
    "  \n",
    "      ∂S∂E[1:3,i] = dsde[1:3] ;\n",
    "      ∂S∂E[4:6,i] = dsde[4:6]*0.5 ;\n",
    "    #   %~ ConsMat(:,i) = dsde ;\n",
    "    end\n",
    "    return ∂S∂E\n",
    "  end\n",
    "\n",
    "\n",
    "∂𝕊∂𝔼_ONSAS = ∂𝕊∂𝔼_complex_step(𝕊_analytic, λ, G, 𝔼)\n",
    "\n",
    "@test ∂𝕊∂𝔼_test == ∂𝕊∂𝔼_ONSAS"
   ]
  },
  {
   "attachments": {},
   "cell_type": "markdown",
   "metadata": {},
   "source": [
    "## Forward diff for $\\frac{\\partial S}{\\partial E} $"
   ]
  },
  {
   "cell_type": "code",
   "execution_count": 19,
   "metadata": {},
   "outputs": [
    {
     "data": {
      "text/plain": [
       "\u001b[32m\u001b[1mTest Passed\u001b[22m\u001b[39m"
      ]
     },
     "metadata": {},
     "output_type": "display_data"
    }
   ],
   "source": [
    "\"Computes 𝕊 given a ϕ(𝔼) function.\"\n",
    "𝕊_forward_diff(𝔼::AbstractMatrix, ϕ::Function=ϕ) = ForwardDiff.gradient(ϕ, 𝔼)\n",
    "\n",
    "@test 𝕊_forward_diff(𝔼) == 𝕊_analytic(𝔼)\n",
    "\n",
    "\"Closure function returns 𝕊 (i,j).\"\n",
    "function 𝕊_forward_dif_ij(𝔼::AbstractMatrix, i::Int=i, j::Int=j, ϕ::Function = ϕ) \n",
    "    𝕊 = 𝕊_forward_diff(𝔼::AbstractMatrix, ϕ)\n",
    "    return 𝕊[i,j]\n",
    "end\n",
    "\n",
    "∂S∂𝔼_forward_dif = zeros(6,6)\n",
    "\n",
    "\"Computes ∂S ∂E with analytic function for 𝕊ᵢⱼ .\"\n",
    "function ∂S∂𝔼_forward_diff(𝔼::Matrix, 𝕊_analytic::Function)\n",
    "\n",
    "    indexes = [(1,1),(2,2),(3,3),(2,3),(1,3),(1,2)]\n",
    "\n",
    "    ∂S∂𝔼_forward_diff = zeros(6,6)\n",
    "    aux_gradients = zeros(3,3)\n",
    "\n",
    "    row = 1\n",
    "    for index in indexes\n",
    "        i,j = index\n",
    "        ∂S∂𝔼_forward_diff[row,:] .= _vogit(ForwardDiff.gradient!(aux_gradients,x -> 𝕊_analytic(x)[i,j], 𝔼),0.5)\n",
    "        row+=1\n",
    "    end\n",
    "    return ∂S∂𝔼_forward_diff\n",
    "\n",
    "end\n",
    "\n",
    "∂𝕊∂𝔼_forward_diff =  ∂S∂𝔼_forward_diff(𝔼, 𝕊_analytic)\n",
    "@test ∂𝕊∂𝔼_forward_diff ≈ ∂𝕊∂𝔼_test rtol = 1e-4"
   ]
  },
  {
   "attachments": {},
   "cell_type": "markdown",
   "metadata": {},
   "source": [
    "## Forward diff for $S$ and $ \\frac{\\partial S}{\\partial E} $"
   ]
  },
  {
   "cell_type": "code",
   "execution_count": 10,
   "metadata": {},
   "outputs": [
    {
     "ename": "LoadError",
     "evalue": "LoadError: type Symbol has no field args\nin expression starting at /home/mvanzulli/Repositories/gitHub/orgs/ONSAS/ONSAS.jl/src/Materials/Hyperelastic.ipynb:23",
     "output_type": "error",
     "traceback": [
      "LoadError: type Symbol has no field args\n",
      "in expression starting at /home/mvanzulli/Repositories/gitHub/orgs/ONSAS/ONSAS.jl/src/Materials/Hyperelastic.ipynb:23\n",
      "\n",
      "Stacktrace:\n",
      "  [1] getproperty(x::Symbol, f::Symbol)\n",
      "    @ Base ./Base.jl:38\n",
      "  [2] (::Test.var\"#16#21\")(kw::Any)\n",
      "    @ Test ./none:0\n",
      "  [3] iterate\n",
      "    @ ./iterators.jl:472 [inlined]\n",
      "  [4] iterate\n",
      "    @ ./generator.jl:44 [inlined]\n",
      "  [5] grow_to!(dest::Vector{Any}, itr::Base.Generator{Base.Iterators.Filter{Test.var\"#16#21\", Tuple{Expr, Symbol}}, Test.var\"#15#20\"})\n",
      "    @ Base ./array.jl:860\n",
      "  [6] collect(itr::Base.Generator{Base.Iterators.Filter{Test.var\"#16#21\", Tuple{Expr, Symbol}}, Test.var\"#15#20\"})\n",
      "    @ Base ./array.jl:784\n",
      "  [7] var\"@test\"(__source__::LineNumberNode, __module__::Module, ex::Any, kws::Vararg{Any})\n",
      "    @ Test /opt/julia-1.8.0/share/julia/stdlib/v1.8/Test/src/Test.jl:440\n",
      "  [8] eval\n",
      "    @ ./boot.jl:368 [inlined]\n",
      "  [9] include_string(mapexpr::typeof(REPL.softscope), mod::Module, code::String, filename::String)\n",
      "    @ Base ./loading.jl:1428\n",
      " [10] #invokelatest#2\n",
      "    @ ./essentials.jl:729 [inlined]\n",
      " [11] invokelatest\n",
      "    @ ./essentials.jl:726 [inlined]\n",
      " [12] (::VSCodeServer.var\"#198#199\"{VSCodeServer.NotebookRunCellArguments, String})()\n",
      "    @ VSCodeServer ~/.vscode/extensions/julialang.language-julia-1.38.2/scripts/packages/VSCodeServer/src/serve_notebook.jl:19\n",
      " [13] withpath(f::VSCodeServer.var\"#198#199\"{VSCodeServer.NotebookRunCellArguments, String}, path::String)\n",
      "    @ VSCodeServer ~/.vscode/extensions/julialang.language-julia-1.38.2/scripts/packages/VSCodeServer/src/repl.jl:249\n",
      " [14] notebook_runcell_request(conn::VSCodeServer.JSONRPC.JSONRPCEndpoint{Base.PipeEndpoint, Base.PipeEndpoint}, params::VSCodeServer.NotebookRunCellArguments)\n",
      "    @ VSCodeServer ~/.vscode/extensions/julialang.language-julia-1.38.2/scripts/packages/VSCodeServer/src/serve_notebook.jl:13\n",
      " [15] dispatch_msg(x::VSCodeServer.JSONRPC.JSONRPCEndpoint{Base.PipeEndpoint, Base.PipeEndpoint}, dispatcher::VSCodeServer.JSONRPC.MsgDispatcher, msg::Dict{String, Any})\n",
      "    @ VSCodeServer.JSONRPC ~/.vscode/extensions/julialang.language-julia-1.38.2/scripts/packages/JSONRPC/src/typed.jl:67\n",
      " [16] serve_notebook(pipename::String, outputchannel_logger::Base.CoreLogging.SimpleLogger; crashreporting_pipename::String)\n",
      "    @ VSCodeServer ~/.vscode/extensions/julialang.language-julia-1.38.2/scripts/packages/VSCodeServer/src/serve_notebook.jl:139\n",
      " [17] top-level scope\n",
      "    @ ~/.vscode/extensions/julialang.language-julia-1.38.2/scripts/notebook/notebook.jl:32"
     ]
    }
   ],
   "source": [
    "\n",
    "\"Computes ∂S ∂E with analytic function for ϕ.\"\n",
    "function S_∂S∂𝔼_forward_diff(𝔼::Matrix, ϕ::Function=ϕ)\n",
    "    \n",
    "    𝕊 = 𝔼 -> ForwardDiff.gradient(ϕ, 𝔼)\n",
    "\n",
    "    ∂S∂𝔼_forward_diff = zeros(6,6)\n",
    "    aux_gradients = zeros(3,3)\n",
    "\n",
    "    ∂S∂𝔼_forward_diff[1,:] .= _vogit(ForwardDiff.gradient!(aux_gradients,E -> 𝕊(E)[1,1], 𝔼),0.5)\n",
    "    ∂S∂𝔼_forward_diff[2,:] .= _vogit(ForwardDiff.gradient!(aux_gradients,E -> 𝕊(E)[2,2], 𝔼),0.5)\n",
    "    ∂S∂𝔼_forward_diff[3,:] .= _vogit(ForwardDiff.gradient!(aux_gradients,E -> 𝕊(E)[3,3], 𝔼),0.5)\n",
    "    ∂S∂𝔼_forward_diff[4,:] .= _vogit(ForwardDiff.gradient!(aux_gradients,E -> 𝕊(E)[2,3], 𝔼),0.5)\n",
    "    ∂S∂𝔼_forward_diff[5,:] .= _vogit(ForwardDiff.gradient!(aux_gradients,E -> 𝕊(E)[1,3], 𝔼),0.5)\n",
    "    ∂S∂𝔼_forward_diff[6,:] .= _vogit(ForwardDiff.gradient!(aux_gradients,E -> 𝕊(E)[1,2], 𝔼),0.5)\n",
    "\n",
    "    return 𝕊(𝔼), ∂S∂𝔼_forward_diff\n",
    "end\n",
    "\n",
    "S_forward_dif_from_ϕ, ∂S∂𝔼_forward_dif_from_ϕ = S_∂S∂𝔼_forward_diff(𝔼)\n",
    "\n",
    "@test S_forward_dif_from_ϕ == 𝕊_test\n",
    "@test ∂S∂𝔼_forward_dif_from_ϕ ≈ ∂𝕊∂𝔼_test rtol = 1e-4 skip = true"
   ]
  },
  {
   "cell_type": "code",
   "execution_count": 28,
   "metadata": {},
   "outputs": [
    {
     "data": {
      "text/plain": [
       "\u001b[32m\u001b[1mTest Passed\u001b[22m\u001b[39m"
      ]
     },
     "metadata": {},
     "output_type": "display_data"
    }
   ],
   "source": [
    "\n",
    "function constitutive_driver(E)\n",
    "    # Compute all derivatives in one function call\n",
    "    ∂²Ψ∂E², 𝕊 = Tensors.hessian(y -> ϕ(y), E, :all)\n",
    "    # indexes = [(1,1),(2,2),(3,3),(3,2),(1,3),(1,2)]\n",
    "\n",
    "    indexes = [(1,1),(2,2),(3,3),(2,3),(1,3),(1,2)]\n",
    "\n",
    "    ∂S∂𝔼 = zeros(6,6)\n",
    "\n",
    "    row = 1\n",
    "    for index in indexes\n",
    "        i,j = index\n",
    "        ∂S∂𝔼[row,:] .= _vogit(∂²Ψ∂E²[:,:,i,j], 1)\n",
    "        row+=1\n",
    "    end\n",
    "    \n",
    "\n",
    "    return 𝕊, ∂S∂𝔼,∂²Ψ∂E²\n",
    "end;\n",
    "\n",
    "𝕊_from_ϕ_tensors, ∂S∂𝔼_tensors,∂²Ψ∂E² = constitutive_driver(𝔼_tensor)\n",
    "\n",
    "@test 𝕊_from_ϕ_tensors == 𝕊_test\n",
    "@test ∂S∂𝔼_tensors ≈ ∂𝕊∂𝔼_test rtol = 1e-4"
   ]
  }
 ],
 "metadata": {
  "kernelspec": {
   "display_name": "Julia 1.8.0",
   "language": "julia",
   "name": "julia-1.8"
  },
  "language_info": {
   "file_extension": ".jl",
   "mimetype": "application/julia",
   "name": "julia",
   "version": "1.8.0"
  },
  "orig_nbformat": 4
 },
 "nbformat": 4,
 "nbformat_minor": 2
}
